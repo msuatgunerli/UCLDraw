{
 "cells": [
  {
   "cell_type": "code",
   "execution_count": 1,
   "metadata": {},
   "outputs": [],
   "source": [
    "import pandas as pd\n",
    "import numpy as np\n",
    "from collections import defaultdict\n",
    "from itertools import product\n",
    "import random\n",
    "random.seed(123)\n",
    "from tqdm.notebook import tqdm"
   ]
  },
  {
   "cell_type": "code",
   "execution_count": 2,
   "metadata": {},
   "outputs": [],
   "source": [
    "class Team:\n",
    "    def __init__(self, country, club, elo, coeff, pot):\n",
    "        self.country = country\n",
    "        self.club = club\n",
    "        self.elo = elo\n",
    "        self.coeff = coeff\n",
    "        self.pot = pot\n",
    "\n",
    "    def display(self):\n",
    "        print(self.country, self.club, self.elo, self.coeff, self.pot)"
   ]
  },
  {
   "cell_type": "code",
   "execution_count": 3,
   "metadata": {},
   "outputs": [
    {
     "data": {
      "text/html": [
       "<div>\n",
       "<style scoped>\n",
       "    .dataframe tbody tr th:only-of-type {\n",
       "        vertical-align: middle;\n",
       "    }\n",
       "\n",
       "    .dataframe tbody tr th {\n",
       "        vertical-align: top;\n",
       "    }\n",
       "\n",
       "    .dataframe thead th {\n",
       "        text-align: right;\n",
       "    }\n",
       "</style>\n",
       "<table border=\"1\" class=\"dataframe\">\n",
       "  <thead>\n",
       "    <tr style=\"text-align: right;\">\n",
       "      <th></th>\n",
       "      <th>ID</th>\n",
       "      <th>Country</th>\n",
       "      <th>Club</th>\n",
       "      <th>Elo</th>\n",
       "      <th>Coeff</th>\n",
       "      <th>Pot</th>\n",
       "    </tr>\n",
       "    <tr>\n",
       "      <th>Rank</th>\n",
       "      <th></th>\n",
       "      <th></th>\n",
       "      <th></th>\n",
       "      <th></th>\n",
       "      <th></th>\n",
       "      <th></th>\n",
       "    </tr>\n",
       "  </thead>\n",
       "  <tbody>\n",
       "    <tr>\n",
       "      <th>1</th>\n",
       "      <td>man_city</td>\n",
       "      <td>England</td>\n",
       "      <td>Man City</td>\n",
       "      <td>2027</td>\n",
       "      <td>134.0</td>\n",
       "      <td>1</td>\n",
       "    </tr>\n",
       "    <tr>\n",
       "      <th>2</th>\n",
       "      <td>liverpool</td>\n",
       "      <td>England</td>\n",
       "      <td>Liverpool</td>\n",
       "      <td>2008</td>\n",
       "      <td>134.0</td>\n",
       "      <td>2</td>\n",
       "    </tr>\n",
       "    <tr>\n",
       "      <th>3</th>\n",
       "      <td>real_madrid</td>\n",
       "      <td>Spain</td>\n",
       "      <td>Real Madrid</td>\n",
       "      <td>1991</td>\n",
       "      <td>124.0</td>\n",
       "      <td>1</td>\n",
       "    </tr>\n",
       "    <tr>\n",
       "      <th>4</th>\n",
       "      <td>bayern</td>\n",
       "      <td>Germany</td>\n",
       "      <td>Bayern</td>\n",
       "      <td>1974</td>\n",
       "      <td>138.0</td>\n",
       "      <td>1</td>\n",
       "    </tr>\n",
       "    <tr>\n",
       "      <th>5</th>\n",
       "      <td>ajax</td>\n",
       "      <td>Netherlands</td>\n",
       "      <td>Ajax</td>\n",
       "      <td>1885</td>\n",
       "      <td>82.5</td>\n",
       "      <td>1</td>\n",
       "    </tr>\n",
       "  </tbody>\n",
       "</table>\n",
       "</div>"
      ],
      "text/plain": [
       "               ID      Country         Club   Elo  Coeff  Pot\n",
       "Rank                                                         \n",
       "1        man_city      England     Man City  2027  134.0    1\n",
       "2       liverpool      England    Liverpool  2008  134.0    2\n",
       "3     real_madrid        Spain  Real Madrid  1991  124.0    1\n",
       "4          bayern      Germany       Bayern  1974  138.0    1\n",
       "5            ajax  Netherlands         Ajax  1885   82.5    1"
      ]
     },
     "execution_count": 3,
     "metadata": {},
     "output_type": "execute_result"
    }
   ],
   "source": [
    "df = pd.read_csv('clubelo/UCL.csv').set_index('Rank')\n",
    "df.head()"
   ]
  },
  {
   "cell_type": "code",
   "execution_count": 4,
   "metadata": {},
   "outputs": [],
   "source": [
    "teams = {}\n",
    "for index, row in df.iterrows():\n",
    "    instance_name = row['ID']\n",
    "    instance_content = Team(row['Country'], row['Club'], row['Elo'], row[\"Coeff\"], row[\"Pot\"])\n",
    "    setattr(instance_content, instance_name, instance_content) # creates a new instance variable on the Team object, using the value of instance_name as the variable name.\n",
    "    teams[instance_name] = instance_content"
   ]
  },
  {
   "cell_type": "code",
   "execution_count": 5,
   "metadata": {},
   "outputs": [
    {
     "data": {
      "text/plain": [
       "[('Ukraine', 'Belarus'), ('Ukraine', 'Russia'), ('Armenia', 'Azerbaijan')]"
      ]
     },
     "execution_count": 5,
     "metadata": {},
     "output_type": "execute_result"
    }
   ],
   "source": [
    "banned_country_pairings = [\n",
    "    ('Ukraine', 'Belarus'),\n",
    "    ('Ukraine', 'Russia'),\n",
    "    ('Armenia', 'Azerbaijan')]\n",
    "banned_country_pairings"
   ]
  },
  {
   "cell_type": "code",
   "execution_count": 6,
   "metadata": {},
   "outputs": [
    {
     "data": {
      "text/plain": [
       "[('Man City', 'Liverpool'),\n",
       " ('Chelsea', 'Tottenham'),\n",
       " ('Real Madrid', 'Barcelona'),\n",
       " ('Atletico', 'Sevilla'),\n",
       " ('Bayern', 'Dortmund'),\n",
       " ('Frankfurt', 'Leipzig'),\n",
       " ('Milan', 'Napoli'),\n",
       " ('Juventus', 'Inter'),\n",
       " ('Paris', 'Marseille'),\n",
       " ('Porto', 'Benfica'),\n",
       " ('Rangers', 'Celtic')]"
      ]
     },
     "execution_count": 6,
     "metadata": {},
     "output_type": "execute_result"
    }
   ],
   "source": [
    "tv_pairings = [\n",
    "    ('Man City', 'Liverpool'), ('Chelsea', 'Tottenham'), # England\n",
    "    ('Real Madrid', 'Barcelona'), ('Atletico', 'Sevilla'), # Spain\n",
    "    ('Bayern', 'Dortmund'), ('Frankfurt', 'Leipzig'), # Germany\n",
    "    ('Milan', 'Napoli'), ('Juventus', 'Inter'), # Italy\n",
    "    ('Paris', 'Marseille'), # France\n",
    "    ('Porto', 'Benfica'), # Portugal\n",
    "    ('Rangers', 'Celtic')] # Scotland\n",
    "tv_pairings"
   ]
  },
  {
   "cell_type": "code",
   "execution_count": 7,
   "metadata": {},
   "outputs": [
    {
     "data": {
      "text/plain": [
       "{'Austria',\n",
       " 'Belgium',\n",
       " 'Croatia',\n",
       " 'Czechia',\n",
       " 'Denmark',\n",
       " 'England',\n",
       " 'France',\n",
       " 'Germany',\n",
       " 'Israel',\n",
       " 'Italy',\n",
       " 'Netherlands',\n",
       " 'Portugal',\n",
       " 'Scotland',\n",
       " 'Spain',\n",
       " 'Ukraine'}"
      ]
     },
     "execution_count": 7,
     "metadata": {},
     "output_type": "execute_result"
    }
   ],
   "source": [
    "nations_list = set(teams[x].country for x in teams.keys())\n",
    "nations_list"
   ]
  },
  {
   "cell_type": "code",
   "execution_count": 8,
   "metadata": {},
   "outputs": [
    {
     "name": "stdout",
     "output_type": "stream",
     "text": [
      "Denmark -> ['copenhagen']\n",
      "England -> ['man_city', 'liverpool', 'chelsea', 'tottenham']\n",
      "Belgium -> ['club_brugge']\n",
      "Austria -> ['salzburg']\n",
      "Italy -> ['inter', 'milan', 'napoli', 'juventus']\n",
      "Scotland -> ['rangers', 'celtic']\n",
      "Czechia -> ['plzen']\n",
      "Spain -> ['real_madrid', 'barcelona', 'atletico', 'sevilla']\n",
      "Germany -> ['bayern', 'dortmund', 'leipzig', 'leverkusen', 'frankfurt']\n",
      "France -> ['paris', 'marseille']\n",
      "Portugal -> ['porto', 'benfica', 'sporting_cp']\n",
      "Croatia -> ['dinamo_zagreb']\n",
      "Netherlands -> ['ajax']\n",
      "Israel -> ['maccabi_haifa']\n",
      "Ukraine -> ['shakhtar']\n"
     ]
    }
   ],
   "source": [
    "for nation in set(teams[x].country for x in teams.keys()):\n",
    "    print(str(nation) + \" ->\", [x for x in teams.keys() if teams[x].country == nation])"
   ]
  },
  {
   "cell_type": "code",
   "execution_count": 9,
   "metadata": {},
   "outputs": [],
   "source": [
    "group_day_pairs = {\n",
    "    'A': 1,'B': 1,'C': 1,'D': 1,\n",
    "    'E': 2,'F': 2,'G': 2,'H': 2}"
   ]
  },
  {
   "cell_type": "code",
   "execution_count": 10,
   "metadata": {},
   "outputs": [],
   "source": [
    "clubs_pots = defaultdict(list)  # dict[pot, list[club]]\n",
    "clubs_pots_dict = {}  # dict[club, pot]\n",
    "\n",
    "clubs_countries = defaultdict(list)  # dict[country, list[club]]\n",
    "clubs_countries_dict = {}  # dict[club, country]\n",
    "\n",
    "clubs_elos = defaultdict(list)  # dict[elo, list[club]]\n",
    "clubs_elos_dict = {}  # dict[club, elo]\n",
    "\n",
    "for participant in teams.keys():\n",
    "    clubs_pots[teams[participant].pot].append(teams[participant].club)\n",
    "    clubs_pots_dict[teams[participant].club] = teams[participant].pot\n",
    "    \n",
    "    clubs_countries[teams[participant].country].append(teams[participant].club)\n",
    "    clubs_countries_dict[teams[participant].club] = teams[participant].country\n",
    "\n",
    "    clubs_elos[teams[participant].elo].append(teams[participant].club)\n",
    "    clubs_elos_dict[teams[participant].club] = teams[participant].elo"
   ]
  },
  {
   "cell_type": "code",
   "execution_count": 11,
   "metadata": {},
   "outputs": [
    {
     "data": {
      "text/plain": [
       "[]"
      ]
     },
     "execution_count": 11,
     "metadata": {},
     "output_type": "execute_result"
    }
   ],
   "source": [
    "clubs_from_banned_countries = []\n",
    "for country1, country2 in banned_country_pairings:\n",
    "    country1_clubs = clubs_countries.get(country1, [])\n",
    "    country2_clubs = clubs_countries.get(country2, [])\n",
    "    for club1, club2 in product(country1_clubs, country2_clubs):\n",
    "        clubs_from_banned_countries.append((club1, club2))\n",
    "clubs_from_banned_countries"
   ]
  },
  {
   "cell_type": "code",
   "execution_count": 12,
   "metadata": {},
   "outputs": [
    {
     "data": {
      "text/plain": [
       "['A', 'B', 'C', 'D', 'E', 'F', 'G', 'H']"
      ]
     },
     "execution_count": 12,
     "metadata": {},
     "output_type": "execute_result"
    }
   ],
   "source": [
    "groups = list(group_day_pairs.keys())\n",
    "groups"
   ]
  },
  {
   "cell_type": "code",
   "execution_count": 13,
   "metadata": {},
   "outputs": [
    {
     "data": {
      "text/plain": [
       "[1, 2, 3, 4]"
      ]
     },
     "execution_count": 13,
     "metadata": {},
     "output_type": "execute_result"
    }
   ],
   "source": [
    "pots = list(clubs_pots.keys())\n",
    "pots"
   ]
  },
  {
   "cell_type": "code",
   "execution_count": 14,
   "metadata": {},
   "outputs": [],
   "source": [
    "def different_day(group1, group2):\n",
    "    day1 = group_day_pairs.get(group1)\n",
    "    day2 = group_day_pairs.get(group2)\n",
    "    return day1 != day2"
   ]
  },
  {
   "cell_type": "code",
   "execution_count": 15,
   "metadata": {},
   "outputs": [],
   "source": [
    "def print_groups(draw):\n",
    "    table = defaultdict(dict)\n",
    "    for club, group in draw.items():\n",
    "        pot = clubs_pots_dict.get(club)\n",
    "        country = clubs_countries_dict.get(club)\n",
    "        elo = clubs_elos_dict.get(club)\n",
    "        table[group][pot] = (club, country, elo)\n",
    "    variance_values= []    \n",
    "    for group in groups:\n",
    "        print(f'-------------- Group {group} --------------')\n",
    "        group_elos = []\n",
    "        for pot in pots:\n",
    "            club, country, elo = table.get(group, {}).get(pot, ('None', 'None', 'None'))\n",
    "            group_elos.append(elo)\n",
    "            print(f'{pot}. | {club}, {country}, {elo}')\n",
    "        print()\n",
    "        print(f'Average Elo for Group: {round(np.mean(group_elos),2)}')\n",
    "        print(f'Sum of Variances of Elo for the Group: {round(np.var(group_elos),2)}')\n",
    "        variance_values.append(np.var(group_elos))\n",
    "        print(f'-------------------------------------')\n",
    "    print(f'-------------------------------------')        \n",
    "    print(f'Sum of Variances for the Draw: {round(np.sum(variance_values),2)}')\n"
   ]
  },
  {
   "attachments": {},
   "cell_type": "markdown",
   "metadata": {},
   "source": [
    "# Full Model"
   ]
  },
  {
   "cell_type": "code",
   "execution_count": 16,
   "metadata": {},
   "outputs": [
    {
     "name": "stdout",
     "output_type": "stream",
     "text": [
      "Set parameter Username\n",
      "Academic license - for non-commercial use only - expires 2024-01-20\n",
      "Gurobi Optimizer version 10.0.0 build v10.0.0rc2 (mac64[arm])\n",
      "\n",
      "CPU model: Apple M1 Pro\n",
      "Thread count: 8 physical cores, 8 logical processors, using up to 8 threads\n",
      "\n",
      "Optimize a model with 568 rows, 256 columns and 1392 nonzeros\n",
      "Model fingerprint: 0xa35e672c\n",
      "Model has 4224 quadratic objective terms\n",
      "Variable types: 0 continuous, 256 integer (256 binary)\n",
      "Coefficient statistics:\n",
      "  Matrix range     [1e+00, 1e+00]\n",
      "  Objective range  [0e+00, 0e+00]\n",
      "  QObjective range [3e+06, 9e+06]\n",
      "  Bounds range     [1e+00, 1e+00]\n",
      "  RHS range        [1e+00, 4e+00]\n",
      "Presolve removed 446 rows and 0 columns\n",
      "Presolve time: 0.01s\n",
      "Presolved: 4090 rows, 4224 columns, 12704 nonzeros\n",
      "Variable types: 0 continuous, 4224 integer (4224 binary)\n",
      "Found heuristic solution: objective 2.320820e+08\n",
      "\n",
      "Root relaxation: objective 1.364399e+09, 613 iterations, 0.03 seconds (0.06 work units)\n",
      "\n",
      "    Nodes    |    Current Node    |     Objective Bounds      |     Work\n",
      " Expl Unexpl |  Obj  Depth IntInf | Incumbent    BestBd   Gap | It/Node Time\n",
      "\n",
      "     0     0 1.3644e+09    0  256 2.3208e+08 1.3644e+09   488%     -    0s\n",
      "H    0     0                    2.322346e+08 1.3644e+09   488%     -    0s\n",
      "     0     0 2.6200e+08    0 1053 2.3223e+08 2.6200e+08  12.8%     -    2s\n",
      "     0     0 2.5463e+08    0 2030 2.3223e+08 2.5463e+08  9.64%     -    4s\n",
      "     0     0 2.4768e+08    0 2165 2.3223e+08 2.4768e+08  6.65%     -    9s\n",
      "     0     0 2.4768e+08    0 2165 2.3223e+08 2.4768e+08  6.65%     -    9s\n",
      "     0     2 2.4768e+08    0 2165 2.3223e+08 2.4768e+08  6.65%     -   10s\n",
      "     7    16 2.4458e+08    3 2173 2.3223e+08 2.4478e+08  5.40%  7569   15s\n",
      "    39    48 2.4360e+08    5 2058 2.3223e+08 2.4475e+08  5.39%  4411   20s\n",
      "   100   114 2.4267e+08    9 1963 2.3223e+08 2.4475e+08  5.39%  2835   25s\n",
      "H  109   114                    2.322358e+08 2.4475e+08  5.39%  2752   25s\n",
      "   218   217 2.4112e+08   16 1883 2.3224e+08 2.4475e+08  5.39%  1958   30s\n",
      "H  304   265                    2.322611e+08 2.4475e+08  5.38%  1712   32s\n",
      "H  334   294                    2.322646e+08 2.4475e+08  5.37%  1659   34s\n",
      "H  339   294                    2.322925e+08 2.4475e+08  5.36%  1645   34s\n",
      "H  340   294                    2.323071e+08 2.4475e+08  5.36%  1647   34s\n",
      "   351   314 2.4036e+08   22 1773 2.3231e+08 2.4475e+08  5.36%  1637   35s\n",
      "H  451   439                    2.323109e+08 2.4475e+08  5.35%  1579   41s\n",
      "H  546   531                    2.323392e+08 2.4475e+08  5.34%  1443   44s\n",
      "   604   572 2.3905e+08   28 1688 2.3234e+08 2.4475e+08  5.34%  1375   45s\n",
      "H  661   616                    2.323436e+08 2.4475e+08  5.34%  1312   46s\n",
      "H  711   616                    2.323458e+08 2.4475e+08  5.34%  1247   46s\n",
      "   800   736 2.3844e+08   35 1550 2.3235e+08 2.4475e+08  5.34%  1215   50s\n",
      "H  854   778                    2.323467e+08 2.4475e+08  5.34%  1187   51s\n",
      "H  981   846                    2.323472e+08 2.4475e+08  5.34%  1143   53s\n",
      "   995   901 2.3737e+08   43 1316 2.3235e+08 2.4475e+08  5.34%  1150   55s\n",
      "  1251  1091 2.4416e+08    5 2225 2.3235e+08 2.4434e+08  5.16%  1054   61s\n",
      "  1451  1195 2.3978e+08   17 1509 2.3235e+08 2.4434e+08  5.16%  1023   77s\n",
      "  1454  1197 2.4127e+08    6 1489 2.3235e+08 2.4434e+08  5.16%  1021   81s\n",
      "  1456  1198 2.3708e+08   34 2250 2.3235e+08 2.4351e+08  4.81%  1020   86s\n",
      "  1463  1203 2.3861e+08   20 2207 2.3235e+08 2.3931e+08  3.00%  1015   95s\n",
      "  1464  1204 2.3792e+08   23 2254 2.3235e+08 2.3792e+08  2.40%  1014  100s\n",
      "  1468  1206 2.3570e+08   42 2506 2.3235e+08 2.3751e+08  2.22%  1011  105s\n",
      "  1473  1210 2.3443e+08   21 2466 2.3235e+08 2.3443e+08  0.89%  1008  116s\n",
      "  1474  1210 2.3322e+08   39 2564 2.3235e+08 2.3322e+08  0.38%  1007  124s\n",
      "  1475  1211 2.3315e+08   15 2720 2.3235e+08 2.3315e+08  0.35%  1006  131s\n",
      "  1477  1212 2.3289e+08   40 2737 2.3235e+08 2.3313e+08  0.34%  1005  135s\n",
      "  1483  1216 2.3273e+08    8 2831 2.3235e+08 2.3273e+08  0.17%  1001  146s\n",
      "  1484  1217 2.3255e+08    7 2888 2.3235e+08 2.3255e+08  0.09%  1000  151s\n",
      "  1485  1218 2.3241e+08   48 2966 2.3235e+08 2.3251e+08  0.07%  1000  155s\n",
      "  1488  1220 2.3249e+08   26 3039 2.3235e+08 2.3249e+08  0.06%   998  160s\n",
      "  1494  1224 2.3246e+08   20 2990 2.3235e+08 2.3246e+08  0.05%   994  167s\n",
      "  1495  1224 2.3245e+08   41 3015 2.3235e+08 2.3245e+08  0.04%   993  170s\n",
      "  1500  1228 2.3244e+08   21 3093 2.3235e+08 2.3244e+08  0.04%   990  175s\n",
      "  1504  1230 2.3242e+08   18 3034 2.3235e+08 2.3242e+08  0.03%   987  182s\n",
      "  1507  1232 2.3242e+08   49 3090 2.3235e+08 2.3242e+08  0.03%   985  185s\n",
      "  1513  1236 2.3241e+08   20 3022 2.3235e+08 2.3241e+08  0.03%   981  190s\n",
      "  1521  1242 2.3240e+08   80 3027 2.3235e+08 2.3240e+08  0.02%   976  197s\n",
      "  1525  1244 2.3239e+08   47 3053 2.3235e+08 2.3239e+08  0.02%   973  200s\n",
      "  1532  1249 2.3238e+08   12 3042 2.3235e+08 2.3238e+08  0.02%   969  205s\n",
      "  1540  1254 2.3238e+08   46 3074 2.3235e+08 2.3238e+08  0.01%   964  210s\n",
      "  1546  1258 2.3237e+08   55 3084 2.3235e+08 2.3237e+08  0.01%   960  215s\n",
      "\n",
      "Cutting planes:\n",
      "  Gomory: 7\n",
      "  Clique: 1\n",
      "  MIR: 46\n",
      "  StrongCG: 33\n",
      "  Flow cover: 1560\n",
      "  Zero half: 4\n",
      "  RLT: 1713\n",
      "\n",
      "Explored 1548 nodes (1902340 simplex iterations) in 217.86 seconds (412.28 work units)\n",
      "Thread count was 8 (of 8 available processors)\n",
      "\n",
      "Solution count 10: 2.32347e+08 2.32347e+08 2.32346e+08 ... 2.32261e+08\n",
      "\n",
      "Optimal solution found (tolerance 1.00e-04)\n",
      "Best objective 2.323471556250e+08, best bound 2.323703352319e+08, gap 0.0100%\n"
     ]
    }
   ],
   "source": [
    "import gurobipy as gp\n",
    "import numpy as np\n",
    "import pandas as pd\n",
    "\n",
    "# Read data\n",
    "data = pd.read_csv('clubelo/UCL.csv')\n",
    "teams = []\n",
    "for i, row in data.iterrows():\n",
    "    team = Team(row['Country'], row['Club'], row['Elo'], row['Coeff'], row['Pot'])\n",
    "    teams.append(team)\n",
    "\n",
    "# Initializing the model\n",
    "model = gp.Model()\n",
    "\n",
    "# Decision variables\n",
    "x = {}\n",
    "for i in range(len(teams)):\n",
    "    for j in range(8):\n",
    "        x[i, j] = model.addVar(vtype=gp.GRB.BINARY)\n",
    "\n",
    "# Adding constraints\n",
    "# Each group should have exactly one team from each pot.\n",
    "for j in range(8):\n",
    "    for p in range(1, 5):\n",
    "        model.addConstr(gp.quicksum(x[i, j] for i in range(len(teams)) if teams[i].pot == p) == 1)\n",
    "\n",
    "# Each team can only be assigned to a single group.\n",
    "for i in range(len(teams)):\n",
    "    model.addConstr(gp.quicksum(x[i, j] for j in range(8)) == 1)\n",
    "\n",
    "# Each group should have exactly 4 teams. Not necessary as we force each group to have exactly one team from each pot.\n",
    "for j in range(8):\n",
    "    model.addConstr(gp.quicksum(x[i, j] for i in range(len(teams))) == 4)\n",
    "\n",
    "#Only one team from each country in each group.\n",
    "for j in range(8):\n",
    "    for c in set([team.country for team in teams]):\n",
    "        model.addConstr(gp.quicksum(x[i, j] for i in range(len(teams)) if teams[i].country == c) <= 1)\n",
    "\n",
    "# Adding constraint to ensure teams paired in tv_pairings play on different days\n",
    "for team1, team2 in tv_pairings:\n",
    "    for j1 in range(4):\n",
    "        for j2 in range(4, 8):\n",
    "            i1 = next(i for i in range(len(teams)) if teams[i].club == team1)\n",
    "            i2 = next(i for i in range(len(teams)) if teams[i].club == team2)\n",
    "            model.addConstr(x[i1, j1] + x[i2, j2] <= 1)\n",
    "            model.addConstr(different_day(chr(65+j1), chr(65+j2))) # ASCII int to letter\n",
    "\n",
    "# Adding constraint for banned country pairings\n",
    "for pair in banned_country_pairings:\n",
    "    country_teams = [team for team in teams if team.country in pair]\n",
    "    for j in range(8):\n",
    "        model.addConstr(gp.quicksum(x[teams.index(team), j] for team in country_teams) <= 1)\n",
    "\n",
    "# Adding the objective function\n",
    "# The objective function is the sum of the variances of elo ratings per each group.\n",
    "obj = gp.quicksum((gp.quicksum(x[i, j] * teams[i].elo for i in range(len(teams))) / 4 - gp.quicksum(x[i, j] * teams[i].elo for i in range(len(teams))))**2 for j in range(8))\n",
    "model.setObjective(obj, gp.GRB.MAXIMIZE)\n",
    "\n",
    "# Running the optimizer\n",
    "model.optimize()"
   ]
  },
  {
   "cell_type": "code",
   "execution_count": 17,
   "metadata": {},
   "outputs": [],
   "source": [
    "gurobi_draw = {}\n",
    "for j in range(8):\n",
    "    for i in range(len(teams)):\n",
    "        if x[i, j].x > 0.5:\n",
    "            gurobi_draw[teams[i].club] = j\n",
    "int_to_letter = {0: 'A', 1: 'B', 2: 'C', 3: 'D', 4: 'E', 5: 'F', 6: 'G', 7: 'H'} # convert integer valued group names to letters to ensure that print_groups works\n",
    "gurobi_draw_mapped = {team: int_to_letter[group] for team, group in gurobi_draw.items()}"
   ]
  },
  {
   "cell_type": "code",
   "execution_count": 18,
   "metadata": {},
   "outputs": [
    {
     "name": "stdout",
     "output_type": "stream",
     "text": [
      "-------------- Group A --------------\n",
      "1. | Bayern, Germany, 1974\n",
      "2. | Chelsea, England, 1882\n",
      "3. | Napoli, Italy, 1816\n",
      "4. | Dinamo Zagreb, Croatia, 1672\n",
      "\n",
      "Average Elo for Group: 1836.0\n",
      "Sum of Variances of Elo for the Group: 12114.0\n",
      "-------------------------------------\n",
      "-------------- Group B --------------\n",
      "1. | Real Madrid, Spain, 1991\n",
      "2. | Liverpool, England, 2008\n",
      "3. | Inter, Italy, 1872\n",
      "4. | Marseille, France, 1727\n",
      "\n",
      "Average Elo for Group: 1899.5\n",
      "Sum of Variances of Elo for the Group: 12664.25\n",
      "-------------------------------------\n",
      "-------------- Group C --------------\n",
      "1. | Man City, England, 2027\n",
      "2. | Barcelona, Spain, 1881\n",
      "3. | Dortmund, Germany, 1803\n",
      "4. | Rangers, Scotland, 1723\n",
      "\n",
      "Average Elo for Group: 1858.5\n",
      "Sum of Variances of Elo for the Group: 12584.75\n",
      "-------------------------------------\n",
      "-------------- Group D --------------\n",
      "1. | Ajax, Netherlands, 1885\n",
      "2. | Tottenham, England, 1878\n",
      "3. | Benfica, Portugal, 1791\n",
      "4. | Celtic, Scotland, 1643\n",
      "\n",
      "Average Elo for Group: 1799.25\n",
      "Sum of Variances of Elo for the Group: 9509.19\n",
      "-------------------------------------\n",
      "-------------- Group E --------------\n",
      "1. | Frankfurt, Germany, 1725\n",
      "2. | Juventus, Italy, 1788\n",
      "3. | Shakhtar Donetsk, Ukraine, 1638\n",
      "4. | Copenhagen, Denmark, 1587\n",
      "\n",
      "Average Elo for Group: 1684.5\n",
      "Sum of Variances of Elo for the Group: 6005.25\n",
      "-------------------------------------\n",
      "-------------- Group F --------------\n",
      "1. | Paris, France, 1878\n",
      "2. | Atletico, Spain, 1863\n",
      "3. | Sporting CP, Portugal, 1764\n",
      "4. | Club Brugge, Belgium, 1622\n",
      "\n",
      "Average Elo for Group: 1781.75\n",
      "Sum of Variances of Elo for the Group: 10425.19\n",
      "-------------------------------------\n",
      "-------------- Group G --------------\n",
      "1. | Porto, Portugal, 1846\n",
      "2. | Sevilla, Spain, 1811\n",
      "3. | Leverkusen, Germany, 1756\n",
      "4. | Plzeň, Czechia, 1621\n",
      "\n",
      "Average Elo for Group: 1758.5\n",
      "Sum of Variances of Elo for the Group: 7331.25\n",
      "-------------------------------------\n",
      "-------------- Group H --------------\n",
      "1. | Milan, Italy, 1839\n",
      "2. | Leipzig, Germany, 1796\n",
      "3. | Salzburg, Austria, 1744\n",
      "4. | M. Haifa, Israel, 1597\n",
      "\n",
      "Average Elo for Group: 1744.0\n",
      "Sum of Variances of Elo for the Group: 8334.5\n",
      "-------------------------------------\n",
      "-------------------------------------\n",
      "Sum of Variances for the Draw: 78968.38\n"
     ]
    }
   ],
   "source": [
    "print_groups(gurobi_draw_mapped)"
   ]
  }
 ],
 "metadata": {
  "kernelspec": {
   "display_name": "base",
   "language": "python",
   "name": "python3"
  },
  "language_info": {
   "codemirror_mode": {
    "name": "ipython",
    "version": 3
   },
   "file_extension": ".py",
   "mimetype": "text/x-python",
   "name": "python",
   "nbconvert_exporter": "python",
   "pygments_lexer": "ipython3",
   "version": "3.9.16"
  },
  "orig_nbformat": 4
 },
 "nbformat": 4,
 "nbformat_minor": 2
}
